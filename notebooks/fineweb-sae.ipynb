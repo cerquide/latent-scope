{
 "cells": [
  {
   "cell_type": "code",
   "execution_count": 2,
   "metadata": {},
   "outputs": [],
   "source": [
    "\n",
    "import pandas as pd\n",
    "import latentscope as ls\n",
    "import h5py\n",
    "# !pip install datasets\n",
    "from datasets import load_dataset"
   ]
  },
  {
   "cell_type": "code",
   "execution_count": 3,
   "metadata": {},
   "outputs": [],
   "source": [
    "# TODO: show downloading sample from fineweb"
   ]
  },
  {
   "cell_type": "code",
   "execution_count": 10,
   "metadata": {},
   "outputs": [
    {
     "name": "stdout",
     "output_type": "stream",
     "text": [
      "<KeysViewHDF5 ['top_acts', 'top_indices']>\n",
      "(10000, 64)\n",
      "(10000, 64)\n"
     ]
    }
   ],
   "source": [
    "with h5py.File(\"/Users/enjalot/latent-scope-data/fineweb-edu-10k/saes/sae-001.h5\", \"r\") as f:\n",
    "    print(f.keys())\n",
    "    top_acts = f.get(\"top_acts\")[:]\n",
    "    top_indices = f.get(\"top_indices\")[:]\n",
    "    print(top_acts.shape)\n",
    "    print(top_indices.shape)\n"
   ]
  },
  {
   "cell_type": "code",
   "execution_count": 11,
   "metadata": {},
   "outputs": [
    {
     "data": {
      "text/plain": [
       "array([0.21127602, 0.14851032, 0.13167411, 0.12901936, 0.12542538,\n",
       "       0.12050804, 0.11599681, 0.10911667, 0.10245717, 0.09247096,\n",
       "       0.08518378, 0.08365664, 0.07800631, 0.06706782, 0.06647921,\n",
       "       0.05952992, 0.05913502, 0.05650827, 0.05593583, 0.04889879,\n",
       "       0.04714418, 0.04397228, 0.04274654, 0.04017923, 0.04017694,\n",
       "       0.03835431, 0.03787563, 0.03787341, 0.03650027, 0.03406205,\n",
       "       0.03383416, 0.03364984, 0.0322901 , 0.03211844, 0.03160176,\n",
       "       0.03152224, 0.03134899, 0.02972465, 0.02833397, 0.02795491,\n",
       "       0.02785561, 0.02775786, 0.0272976 , 0.02706236, 0.02680814,\n",
       "       0.02642737, 0.02591424, 0.02473864, 0.02473825, 0.02321817,\n",
       "       0.02317835, 0.0230809 , 0.02284331, 0.02217324, 0.0219964 ,\n",
       "       0.02166185, 0.02163344, 0.02138862, 0.0213408 , 0.02086308,\n",
       "       0.02070821, 0.02066883, 0.02055968, 0.02004253], dtype=float32)"
      ]
     },
     "execution_count": 11,
     "metadata": {},
     "output_type": "execute_result"
    }
   ],
   "source": [
    "top_acts[0]"
   ]
  },
  {
   "cell_type": "code",
   "execution_count": 12,
   "metadata": {},
   "outputs": [
    {
     "data": {
      "text/plain": [
       "array([ 8944,  7583, 16225, 14943, 11176, 23917,  4919,  4941,  4000,\n",
       "       10367,  5983,  7627,  9398, 16267, 11963, 16708,  7518, 18204,\n",
       "        9535,  2724, 18167,  2228, 19213, 18010, 22989,  5432, 10935,\n",
       "       22337,  4004, 11119,  7774, 17695, 10567, 21551, 23250,  1460,\n",
       "       22268,  9566, 18271, 21744, 21539, 10463, 20740,  5340, 10539,\n",
       "        9217, 15487,  7070, 22817, 17483, 24236, 18312, 20104, 12048,\n",
       "        3322,    38,  4430, 13258,  3523,  1725, 20912, 15362,  8929,\n",
       "         519])"
      ]
     },
     "execution_count": 12,
     "metadata": {},
     "output_type": "execute_result"
    }
   ],
   "source": [
    "top_indices[0]"
   ]
  },
  {
   "cell_type": "code",
   "execution_count": 1,
   "metadata": {},
   "outputs": [
    {
     "data": {
      "application/vnd.jupyter.widget-view+json": {
       "model_id": "743d120ec388449884e0c4cfcbd009e3",
       "version_major": 2,
       "version_minor": 0
      },
      "text/plain": [
       "umap-top10.pkl:   0%|          | 0.00/287M [00:00<?, ?B/s]"
      ]
     },
     "metadata": {},
     "output_type": "display_data"
    },
    {
     "data": {
      "application/vnd.jupyter.widget-view+json": {
       "model_id": "d5dc89843b5d4588b65c18d72bb2c360",
       "version_major": 2,
       "version_minor": 0
      },
      "text/plain": [
       "umap/64_32/umap-top10-metadata.json:   0%|          | 0.00/291 [00:00<?, ?B/s]"
      ]
     },
     "metadata": {},
     "output_type": "display_data"
    },
    {
     "name": "stdout",
     "output_type": "stream",
     "text": [
      "Fri Nov  8 11:04:27 2024 Building and compiling search function\n",
      "UMAP model loaded: UMAP(angular_rp_forest=True, metric='cosine', n_jobs=1, n_neighbors=25, random_state=42, verbose=True)\n",
      "metadata {'umap_params': {'n_neighbors': 25, 'min_dist': 0.1, 'metric': 'cosine', 'n_components': 2, 'random_state': 42}, 'bounds': {'x_min': -0.5994952321052551, 'x_max': 9.158385276794434, 'y_min': -0.24440008401870728, 'y_max': 7.851518630981445}}\n"
     ]
    }
   ],
   "source": [
    "# experiment with loading a saved UMAP model for the SAE top activations that we can use to map any dataset\n",
    "from huggingface_hub import hf_hub_download\n",
    "import pickle\n",
    "import json\n",
    "\n",
    "# Download the UMAP model from HuggingFace Hub\n",
    "model_path = hf_hub_download(\n",
    "    repo_id=\"enjalot/sae-nomic-text-v1.5-FineWeb-edu-100BT\",\n",
    "    filename=\"umap/64_32/umap-top10.pkl\"\n",
    ")\n",
    "# Download the metadata JSON file\n",
    "metadata_path = hf_hub_download(\n",
    "    repo_id=\"enjalot/sae-nomic-text-v1.5-FineWeb-edu-100BT\",\n",
    "    filename=\"umap/64_32/umap-top10-metadata.json\"\n",
    ")\n",
    "\n",
    "\n",
    "# Load the UMAP model\n",
    "with open(model_path, 'rb') as f:\n",
    "    umap_model = pickle.load(f)\n",
    "\n",
    "\n",
    "# Load the metadata\n",
    "with open(metadata_path, 'r') as f:\n",
    "    umap_metadata = json.load(f)\n",
    "\n",
    "print(\"UMAP model loaded:\", umap_model)\n",
    "print(\"metadata\", umap_metadata)\n"
   ]
  },
  {
   "cell_type": "code",
   "execution_count": null,
   "metadata": {},
   "outputs": [],
   "source": [
    "# TODO: load some embeddings and fit this\n",
    "xy = umap_model.transform(embeddings)"
   ]
  },
  {
   "cell_type": "code",
   "execution_count": null,
   "metadata": {},
   "outputs": [],
   "source": [
    "min_values = np.array([umap_metadata['bounds'][\"x_min\"], umap_metadata['bounds'][\"y_min\"]])\n",
    "max_values = np.array([umap_metadata['bounds'][\"x_max\"], umap_metadata['bounds'][\"y_max\"]])\n",
    "normalized_points = (xy - min_values) / (max_values - min_values)\n",
    "normalized_points = 2 * normalized_points - 1\n",
    "# you can now get the x,y coordinates that are scaled to the original umap x,y\n",
    "# this means any dataset projected in this way will overlap in the exact same space as the original SAE top activations\n",
    "\n",
    "# results_df[\"x\"] = normalized_points[:, 0]\n",
    "# results_df[\"y\"] = normalized_points[:, 1]\n",
    "# results_df.head()"
   ]
  }
 ],
 "metadata": {
  "kernelspec": {
   "display_name": "testenv",
   "language": "python",
   "name": "python3"
  },
  "language_info": {
   "codemirror_mode": {
    "name": "ipython",
    "version": 3
   },
   "file_extension": ".py",
   "mimetype": "text/x-python",
   "name": "python",
   "nbconvert_exporter": "python",
   "pygments_lexer": "ipython3",
   "version": "3.12.7"
  }
 },
 "nbformat": 4,
 "nbformat_minor": 2
}
