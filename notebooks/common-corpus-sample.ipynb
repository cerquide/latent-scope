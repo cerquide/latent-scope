{
 "cells": [
  {
   "cell_type": "code",
   "execution_count": 1,
   "metadata": {},
   "outputs": [],
   "source": [
    "import pandas as pd\n",
    "import latentscope as ls"
   ]
  },
  {
   "cell_type": "code",
   "execution_count": 2,
   "metadata": {},
   "outputs": [
    {
     "data": {
      "application/vnd.jupyter.widget-view+json": {
       "model_id": "22eb6e3c1c3e4ed099f635298a60744f",
       "version_major": 2,
       "version_minor": 0
      },
      "text/plain": [
       "Downloading readme:   0%|          | 0.00/7.56k [00:00<?, ?B/s]"
      ]
     },
     "metadata": {},
     "output_type": "display_data"
    },
    {
     "data": {
      "application/vnd.jupyter.widget-view+json": {
       "model_id": "477bd80988f54375b8451fe760cbe3f1",
       "version_major": 2,
       "version_minor": 0
      },
      "text/plain": [
       "Resolving data files:   0%|          | 0/10009 [00:00<?, ?it/s]"
      ]
     },
     "metadata": {},
     "output_type": "display_data"
    }
   ],
   "source": [
    "from datasets import load_dataset\n",
    "dataset = load_dataset(\"PleIAs/common_corpus\", streaming=True, split=\"train\")\n"
   ]
  },
  {
   "cell_type": "code",
   "execution_count": 3,
   "metadata": {},
   "outputs": [],
   "source": [
    "dataset_head = dataset.take(100000)"
   ]
  },
  {
   "cell_type": "code",
   "execution_count": 4,
   "metadata": {},
   "outputs": [],
   "source": [
    "df = pd.DataFrame(dataset_head)"
   ]
  },
  {
   "cell_type": "code",
   "execution_count": 5,
   "metadata": {},
   "outputs": [
    {
     "data": {
      "text/html": [
       "<div>\n",
       "<style scoped>\n",
       "    .dataframe tbody tr th:only-of-type {\n",
       "        vertical-align: middle;\n",
       "    }\n",
       "\n",
       "    .dataframe tbody tr th {\n",
       "        vertical-align: top;\n",
       "    }\n",
       "\n",
       "    .dataframe thead th {\n",
       "        text-align: right;\n",
       "    }\n",
       "</style>\n",
       "<table border=\"1\" class=\"dataframe\">\n",
       "  <thead>\n",
       "    <tr style=\"text-align: right;\">\n",
       "      <th></th>\n",
       "      <th>identifier</th>\n",
       "      <th>collection</th>\n",
       "      <th>license</th>\n",
       "      <th>text</th>\n",
       "    </tr>\n",
       "  </thead>\n",
       "  <tbody>\n",
       "    <tr>\n",
       "      <th>0</th>\n",
       "      <td>2021/52021XC0713(02)/52021XC0713(02)_SK.txt_5</td>\n",
       "      <td>Eurlex</td>\n",
       "      <td>CC-By</td>\n",
       "      <td>(37)  Riadenie cyklu projektu predstavuje proc...</td>\n",
       "    </tr>\n",
       "    <tr>\n",
       "      <th>1</th>\n",
       "      <td>github_open_source_100_1_0</td>\n",
       "      <td>Github OpenSource</td>\n",
       "      <td>Various open source</td>\n",
       "      <td>// Copyright (c) 2021 Yoakke.\\n// Licensed und...</td>\n",
       "    </tr>\n",
       "    <tr>\n",
       "      <th>2</th>\n",
       "      <td>github_open_source_100_1_1</td>\n",
       "      <td>Github OpenSource</td>\n",
       "      <td>Various open source</td>\n",
       "      <td>#include &lt;sys/fcntl.h&gt;\\n#include &lt;unistd.h&gt;\\n#...</td>\n",
       "    </tr>\n",
       "    <tr>\n",
       "      <th>3</th>\n",
       "      <td>sn83002748_1918-10-24_1_9_1</td>\n",
       "      <td>US-PD-Newspapers</td>\n",
       "      <td>Public Domain</td>\n",
       "      <td>POLITICAL ADVERTISEMENTS JOHN F. GOLDY, Os Sav...</td>\n",
       "    </tr>\n",
       "    <tr>\n",
       "      <th>4</th>\n",
       "      <td>github_open_source_100_1_2</td>\n",
       "      <td>Github OpenSource</td>\n",
       "      <td>Various open source</td>\n",
       "      <td>{#\\n/**\\n * @file\\n * Theme override for a men...</td>\n",
       "    </tr>\n",
       "  </tbody>\n",
       "</table>\n",
       "</div>"
      ],
      "text/plain": [
       "                                      identifier         collection  \\\n",
       "0  2021/52021XC0713(02)/52021XC0713(02)_SK.txt_5             Eurlex   \n",
       "1                     github_open_source_100_1_0  Github OpenSource   \n",
       "2                     github_open_source_100_1_1  Github OpenSource   \n",
       "3                    sn83002748_1918-10-24_1_9_1   US-PD-Newspapers   \n",
       "4                     github_open_source_100_1_2  Github OpenSource   \n",
       "\n",
       "               license                                               text  \n",
       "0                CC-By  (37)  Riadenie cyklu projektu predstavuje proc...  \n",
       "1  Various open source  // Copyright (c) 2021 Yoakke.\\n// Licensed und...  \n",
       "2  Various open source  #include <sys/fcntl.h>\\n#include <unistd.h>\\n#...  \n",
       "3        Public Domain  POLITICAL ADVERTISEMENTS JOHN F. GOLDY, Os Sav...  \n",
       "4  Various open source  {#\\n/**\\n * @file\\n * Theme override for a men...  "
      ]
     },
     "execution_count": 5,
     "metadata": {},
     "output_type": "execute_result"
    }
   ],
   "source": [
    "df.head()"
   ]
  },
  {
   "cell_type": "code",
   "execution_count": 6,
   "metadata": {},
   "outputs": [
    {
     "name": "stdout",
     "output_type": "stream",
     "text": [
      "Initialized env with data directory at /Users/enjalot/latent-scope-demo\n"
     ]
    }
   ],
   "source": [
    "ls.init(\"~/latent-scope-demo\")"
   ]
  },
  {
   "cell_type": "code",
   "execution_count": 7,
   "metadata": {},
   "outputs": [
    {
     "name": "stdout",
     "output_type": "stream",
     "text": [
      "Loading environment variables from: /Users/enjalot/code/latent-scope/notebooks/.env\n",
      "DATA DIR /Users/enjalot/latent-scope-demo\n",
      "DIRECTORY /Users/enjalot/latent-scope-demo/common-corpus-100k\n",
      "                                      identifier         collection  \\\n",
      "0  2021/52021XC0713(02)/52021XC0713(02)_SK.txt_5             Eurlex   \n",
      "1                     github_open_source_100_1_0  Github OpenSource   \n",
      "2                     github_open_source_100_1_1  Github OpenSource   \n",
      "3                    sn83002748_1918-10-24_1_9_1   US-PD-Newspapers   \n",
      "4                     github_open_source_100_1_2  Github OpenSource   \n",
      "\n",
      "               license                                               text  \n",
      "0                CC-By  (37)  Riadenie cyklu projektu predstavuje proc...  \n",
      "1  Various open source  // Copyright (c) 2021 Yoakke.\\n// Licensed und...  \n",
      "2  Various open source  #include <sys/fcntl.h>\\n#include <unistd.h>\\n#...  \n",
      "3        Public Domain  POLITICAL ADVERTISEMENTS JOHN F. GOLDY, Os Sav...  \n",
      "4  Various open source  {#\\n/**\\n * @file\\n * Theme override for a men...  \n",
      "                                       identifier         collection  \\\n",
      "99995  jbc.bj.uj.edu.pl.NDIGCZAS018898_66909803_1          Polish-PD   \n",
      "99996                             US-19956008-A_1              USPTO   \n",
      "99997               github_open_source_100_2_8355  Github OpenSource   \n",
      "99998               github_open_source_100_2_8356  Github OpenSource   \n",
      "99999                    arithmeticinplai00fish_3         English-PD   \n",
      "\n",
      "                   license                                               text  \n",
      "99995        Public Domain  UK Abouament: kwartalnie: w ekspedycji . „ 180...  \n",
      "99996        Public Domain  Vehicle seat belt guiding device\\n\\nABSTRACT\\n...  \n",
      "99997  Various open source  var __ref = require(\"./../../internal/ref\");\\n...  \n",
      "99998  Various open source  @font-face {\\n    font-family: \"Alegreya Sans\"...  \n",
      "99999        Public Domain  Prices: $4. J Product by 2. J MULTIPLICATION, ...  \n",
      "Index(['identifier', 'collection', 'license', 'text'], dtype='object')\n",
      "checking column types\n",
      "COLUMN identifier TYPE string\n",
      "COLUMN collection TYPE string\n",
      "COLUMN license TYPE string\n",
      "COLUMN text TYPE string\n",
      "wrote /Users/enjalot/latent-scope-demo/common-corpus-100k/input.parquet\n"
     ]
    }
   ],
   "source": [
    "ls.ingest(\"common-corpus-100k\", df, \"text\")"
   ]
  },
  {
   "cell_type": "code",
   "execution_count": null,
   "metadata": {},
   "outputs": [],
   "source": []
  }
 ],
 "metadata": {
  "kernelspec": {
   "display_name": "testenv-whl",
   "language": "python",
   "name": "python3"
  },
  "language_info": {
   "codemirror_mode": {
    "name": "ipython",
    "version": 3
   },
   "file_extension": ".py",
   "mimetype": "text/x-python",
   "name": "python",
   "nbconvert_exporter": "python",
   "pygments_lexer": "ipython3",
   "version": "3.12.7"
  }
 },
 "nbformat": 4,
 "nbformat_minor": 2
}
