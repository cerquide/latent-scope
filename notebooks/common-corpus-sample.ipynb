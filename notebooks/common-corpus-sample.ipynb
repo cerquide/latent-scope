{
 "cells": [
  {
   "cell_type": "code",
   "execution_count": 2,
   "metadata": {},
   "outputs": [],
   "source": [
    "import pandas as pd\n",
    "import latentscope as ls"
   ]
  },
  {
   "cell_type": "code",
   "execution_count": 1,
   "metadata": {},
   "outputs": [
    {
     "data": {
      "application/vnd.jupyter.widget-view+json": {
       "model_id": "e2e6bc13bd5a4f66bda0e1190c589e3e",
       "version_major": 2,
       "version_minor": 0
      },
      "text/plain": [
       "Downloading readme:   0%|          | 0.00/23.2k [00:00<?, ?B/s]"
      ]
     },
     "metadata": {},
     "output_type": "display_data"
    }
   ],
   "source": [
    "from datasets import load_dataset\n",
    "dataset = load_dataset(\"HuggingFaceFW/fineweb-edu\", data_files=\"sample/10BT/*.parquet\", streaming=True, split=\"train\")\n"
   ]
  },
  {
   "cell_type": "code",
   "execution_count": 9,
   "metadata": {},
   "outputs": [],
   "source": [
    "dataset_head = dataset.take(10000)"
   ]
  },
  {
   "cell_type": "code",
   "execution_count": 10,
   "metadata": {},
   "outputs": [],
   "source": [
    "df = pd.DataFrame(dataset_head)"
   ]
  },
  {
   "cell_type": "code",
   "execution_count": 11,
   "metadata": {},
   "outputs": [
    {
     "data": {
      "text/html": [
       "<div>\n",
       "<style scoped>\n",
       "    .dataframe tbody tr th:only-of-type {\n",
       "        vertical-align: middle;\n",
       "    }\n",
       "\n",
       "    .dataframe tbody tr th {\n",
       "        vertical-align: top;\n",
       "    }\n",
       "\n",
       "    .dataframe thead th {\n",
       "        text-align: right;\n",
       "    }\n",
       "</style>\n",
       "<table border=\"1\" class=\"dataframe\">\n",
       "  <thead>\n",
       "    <tr style=\"text-align: right;\">\n",
       "      <th></th>\n",
       "      <th>text</th>\n",
       "      <th>id</th>\n",
       "      <th>dump</th>\n",
       "      <th>url</th>\n",
       "      <th>file_path</th>\n",
       "      <th>language</th>\n",
       "      <th>language_score</th>\n",
       "      <th>token_count</th>\n",
       "      <th>score</th>\n",
       "      <th>int_score</th>\n",
       "    </tr>\n",
       "  </thead>\n",
       "  <tbody>\n",
       "    <tr>\n",
       "      <th>0</th>\n",
       "      <td>The Independent Jane\\nFor all the love, romanc...</td>\n",
       "      <td>&lt;urn:uuid:0d8a309d-25c5-405d-a08a-c11239f0d717&gt;</td>\n",
       "      <td>CC-MAIN-2013-20</td>\n",
       "      <td>http://austenauthors.net/the-independent-jane</td>\n",
       "      <td>s3://commoncrawl/crawl-data/CC-MAIN-2013-20/se...</td>\n",
       "      <td>en</td>\n",
       "      <td>0.974320</td>\n",
       "      <td>845</td>\n",
       "      <td>2.750000</td>\n",
       "      <td>3</td>\n",
       "    </tr>\n",
       "    <tr>\n",
       "      <th>1</th>\n",
       "      <td>Taking Play Seriously\\nBy ROBIN MARANTZ HENIG\\...</td>\n",
       "      <td>&lt;urn:uuid:316c7af5-14e1-4d0b-9576-753e17ef2cc5&gt;</td>\n",
       "      <td>CC-MAIN-2013-20</td>\n",
       "      <td>http://query.nytimes.com/gst/fullpage.html?res...</td>\n",
       "      <td>s3://commoncrawl/crawl-data/CC-MAIN-2013-20/se...</td>\n",
       "      <td>en</td>\n",
       "      <td>0.961459</td>\n",
       "      <td>1055</td>\n",
       "      <td>2.562500</td>\n",
       "      <td>3</td>\n",
       "    </tr>\n",
       "    <tr>\n",
       "      <th>2</th>\n",
       "      <td>How do you get HIV?\\nHIV can be passed on when...</td>\n",
       "      <td>&lt;urn:uuid:a3e140cd-7f25-48c9-a2f0-a7d0b1954e0d&gt;</td>\n",
       "      <td>CC-MAIN-2013-20</td>\n",
       "      <td>http://www.childline.org.uk/Explore/SexRelatio...</td>\n",
       "      <td>s3://commoncrawl/crawl-data/CC-MAIN-2013-20/se...</td>\n",
       "      <td>en</td>\n",
       "      <td>0.966757</td>\n",
       "      <td>136</td>\n",
       "      <td>3.125000</td>\n",
       "      <td>3</td>\n",
       "    </tr>\n",
       "    <tr>\n",
       "      <th>3</th>\n",
       "      <td>CTComms sends on average 2 million emails mont...</td>\n",
       "      <td>&lt;urn:uuid:c337bcd8-6aa1-4f2d-8c48-b916442ebbee&gt;</td>\n",
       "      <td>CC-MAIN-2013-20</td>\n",
       "      <td>http://www.ctt.org/resource_centre/getting_sta...</td>\n",
       "      <td>s3://commoncrawl/crawl-data/CC-MAIN-2013-20/se...</td>\n",
       "      <td>en</td>\n",
       "      <td>0.910602</td>\n",
       "      <td>3479</td>\n",
       "      <td>3.234375</td>\n",
       "      <td>3</td>\n",
       "    </tr>\n",
       "    <tr>\n",
       "      <th>4</th>\n",
       "      <td>Hold the salt: UCLA engineers develop revoluti...</td>\n",
       "      <td>&lt;urn:uuid:c0b175bb-65fb-420e-a881-a80b91d00ecd&gt;</td>\n",
       "      <td>CC-MAIN-2013-20</td>\n",
       "      <td>http://www.environment.ucla.edu/water/news/art...</td>\n",
       "      <td>s3://commoncrawl/crawl-data/CC-MAIN-2013-20/se...</td>\n",
       "      <td>en</td>\n",
       "      <td>0.924981</td>\n",
       "      <td>1115</td>\n",
       "      <td>2.812500</td>\n",
       "      <td>3</td>\n",
       "    </tr>\n",
       "  </tbody>\n",
       "</table>\n",
       "</div>"
      ],
      "text/plain": [
       "                                                text  \\\n",
       "0  The Independent Jane\\nFor all the love, romanc...   \n",
       "1  Taking Play Seriously\\nBy ROBIN MARANTZ HENIG\\...   \n",
       "2  How do you get HIV?\\nHIV can be passed on when...   \n",
       "3  CTComms sends on average 2 million emails mont...   \n",
       "4  Hold the salt: UCLA engineers develop revoluti...   \n",
       "\n",
       "                                                id             dump  \\\n",
       "0  <urn:uuid:0d8a309d-25c5-405d-a08a-c11239f0d717>  CC-MAIN-2013-20   \n",
       "1  <urn:uuid:316c7af5-14e1-4d0b-9576-753e17ef2cc5>  CC-MAIN-2013-20   \n",
       "2  <urn:uuid:a3e140cd-7f25-48c9-a2f0-a7d0b1954e0d>  CC-MAIN-2013-20   \n",
       "3  <urn:uuid:c337bcd8-6aa1-4f2d-8c48-b916442ebbee>  CC-MAIN-2013-20   \n",
       "4  <urn:uuid:c0b175bb-65fb-420e-a881-a80b91d00ecd>  CC-MAIN-2013-20   \n",
       "\n",
       "                                                 url  \\\n",
       "0      http://austenauthors.net/the-independent-jane   \n",
       "1  http://query.nytimes.com/gst/fullpage.html?res...   \n",
       "2  http://www.childline.org.uk/Explore/SexRelatio...   \n",
       "3  http://www.ctt.org/resource_centre/getting_sta...   \n",
       "4  http://www.environment.ucla.edu/water/news/art...   \n",
       "\n",
       "                                           file_path language  language_score  \\\n",
       "0  s3://commoncrawl/crawl-data/CC-MAIN-2013-20/se...       en        0.974320   \n",
       "1  s3://commoncrawl/crawl-data/CC-MAIN-2013-20/se...       en        0.961459   \n",
       "2  s3://commoncrawl/crawl-data/CC-MAIN-2013-20/se...       en        0.966757   \n",
       "3  s3://commoncrawl/crawl-data/CC-MAIN-2013-20/se...       en        0.910602   \n",
       "4  s3://commoncrawl/crawl-data/CC-MAIN-2013-20/se...       en        0.924981   \n",
       "\n",
       "   token_count     score  int_score  \n",
       "0          845  2.750000          3  \n",
       "1         1055  2.562500          3  \n",
       "2          136  3.125000          3  \n",
       "3         3479  3.234375          3  \n",
       "4         1115  2.812500          3  "
      ]
     },
     "execution_count": 11,
     "metadata": {},
     "output_type": "execute_result"
    }
   ],
   "source": [
    "df.head()"
   ]
  },
  {
   "cell_type": "code",
   "execution_count": 12,
   "metadata": {},
   "outputs": [
    {
     "name": "stdout",
     "output_type": "stream",
     "text": [
      "Initialized env with data directory at /Users/enjalot/latent-scope-demo\n"
     ]
    }
   ],
   "source": [
    "ls.init(\"~/latent-scope-demo\")"
   ]
  },
  {
   "cell_type": "code",
   "execution_count": 13,
   "metadata": {},
   "outputs": [
    {
     "name": "stdout",
     "output_type": "stream",
     "text": [
      "Loading environment variables from: /Users/enjalot/code/latent-scope/notebooks/.env\n",
      "DATA DIR /Users/enjalot/latent-scope-demo\n",
      "DIRECTORY /Users/enjalot/latent-scope-demo/fineweb-edu-10k\n",
      "                                                text  \\\n",
      "0  The Independent Jane\\nFor all the love, romanc...   \n",
      "1  Taking Play Seriously\\nBy ROBIN MARANTZ HENIG\\...   \n",
      "2  How do you get HIV?\\nHIV can be passed on when...   \n",
      "3  CTComms sends on average 2 million emails mont...   \n",
      "4  Hold the salt: UCLA engineers develop revoluti...   \n",
      "\n",
      "                                                id             dump  \\\n",
      "0  <urn:uuid:0d8a309d-25c5-405d-a08a-c11239f0d717>  CC-MAIN-2013-20   \n",
      "1  <urn:uuid:316c7af5-14e1-4d0b-9576-753e17ef2cc5>  CC-MAIN-2013-20   \n",
      "2  <urn:uuid:a3e140cd-7f25-48c9-a2f0-a7d0b1954e0d>  CC-MAIN-2013-20   \n",
      "3  <urn:uuid:c337bcd8-6aa1-4f2d-8c48-b916442ebbee>  CC-MAIN-2013-20   \n",
      "4  <urn:uuid:c0b175bb-65fb-420e-a881-a80b91d00ecd>  CC-MAIN-2013-20   \n",
      "\n",
      "                                                 url  \\\n",
      "0      http://austenauthors.net/the-independent-jane   \n",
      "1  http://query.nytimes.com/gst/fullpage.html?res...   \n",
      "2  http://www.childline.org.uk/Explore/SexRelatio...   \n",
      "3  http://www.ctt.org/resource_centre/getting_sta...   \n",
      "4  http://www.environment.ucla.edu/water/news/art...   \n",
      "\n",
      "                                           file_path language  language_score  \\\n",
      "0  s3://commoncrawl/crawl-data/CC-MAIN-2013-20/se...       en        0.974320   \n",
      "1  s3://commoncrawl/crawl-data/CC-MAIN-2013-20/se...       en        0.961459   \n",
      "2  s3://commoncrawl/crawl-data/CC-MAIN-2013-20/se...       en        0.966757   \n",
      "3  s3://commoncrawl/crawl-data/CC-MAIN-2013-20/se...       en        0.910602   \n",
      "4  s3://commoncrawl/crawl-data/CC-MAIN-2013-20/se...       en        0.924981   \n",
      "\n",
      "   token_count     score  int_score  \n",
      "0          845  2.750000          3  \n",
      "1         1055  2.562500          3  \n",
      "2          136  3.125000          3  \n",
      "3         3479  3.234375          3  \n",
      "4         1115  2.812500          3  \n",
      "                                                   text  \\\n",
      "9995  Here we have the inspiration for the movie tre...   \n",
      "9996  Love and Logic Resource KitLove and Logic is a...   \n",
      "9997  In the event of fire, people need to know exac...   \n",
      "9998  It may be a small comfort to those planning th...   \n",
      "9999  A 13-year-old middle school student is working...   \n",
      "\n",
      "                                                   id             dump  \\\n",
      "9995  <urn:uuid:57ae955d-687d-497f-93d4-d5314a541145>  CC-MAIN-2017-26   \n",
      "9996  <urn:uuid:3df9d504-e03a-4ef2-93ae-1b0fe24baa5e>  CC-MAIN-2017-26   \n",
      "9997  <urn:uuid:cbd2548e-361a-4de4-98e6-b5ecd485bf4f>  CC-MAIN-2017-26   \n",
      "9998  <urn:uuid:51ee7105-5715-47c0-a4d7-d6c1b39d3344>  CC-MAIN-2017-26   \n",
      "9999  <urn:uuid:5f525003-bf93-42d1-b05b-29a50aacfb63>  CC-MAIN-2017-26   \n",
      "\n",
      "                                                    url  \\\n",
      "9995  https://www.hamahamaoysters.com/blogs/learn/18...   \n",
      "9996  http://holly.rpes.schoolfusion.us/modules/cms/...   \n",
      "9997  http://churchsafety.org.uk/information/fire/f_...   \n",
      "9998  http://insideindustrynews.com/curiosity-gives-...   \n",
      "9999  http://juneauempire.com/stories/120505/loc_200...   \n",
      "\n",
      "                                              file_path language  \\\n",
      "9995  s3://commoncrawl/crawl-data/CC-MAIN-2017-26/se...       en   \n",
      "9996  s3://commoncrawl/crawl-data/CC-MAIN-2017-26/se...       en   \n",
      "9997  s3://commoncrawl/crawl-data/CC-MAIN-2017-26/se...       en   \n",
      "9998  s3://commoncrawl/crawl-data/CC-MAIN-2017-26/se...       en   \n",
      "9999  s3://commoncrawl/crawl-data/CC-MAIN-2017-26/se...       en   \n",
      "\n",
      "      language_score  token_count     score  int_score  \n",
      "9995        0.961133          368  2.875000          3  \n",
      "9996        0.895080          249  2.828125          3  \n",
      "9997        0.960923         1081  3.171875          3  \n",
      "9998        0.938971          141  2.968750          3  \n",
      "9999        0.981334         1131  2.859375          3  \n",
      "Index(['text', 'id', 'dump', 'url', 'file_path', 'language', 'language_score',\n",
      "       'token_count', 'score', 'int_score'],\n",
      "      dtype='object')\n",
      "wrote /Users/enjalot/latent-scope-demo/fineweb-edu-10k/input.parquet\n"
     ]
    }
   ],
   "source": [
    "ls.ingest(\"fineweb-edu-10k\", df, \"text\")"
   ]
  },
  {
   "cell_type": "code",
   "execution_count": null,
   "metadata": {},
   "outputs": [],
   "source": []
  }
 ],
 "metadata": {
  "kernelspec": {
   "display_name": "testenv-whl",
   "language": "python",
   "name": "python3"
  },
  "language_info": {
   "codemirror_mode": {
    "name": "ipython",
    "version": 3
   },
   "file_extension": ".py",
   "mimetype": "text/x-python",
   "name": "python",
   "nbconvert_exporter": "python",
   "pygments_lexer": "ipython3",
   "version": "3.12.5"
  }
 },
 "nbformat": 4,
 "nbformat_minor": 2
}
